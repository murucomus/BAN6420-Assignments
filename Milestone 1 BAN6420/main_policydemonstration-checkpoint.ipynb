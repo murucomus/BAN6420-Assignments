{
 "cells": [
  {
   "cell_type": "code",
   "execution_count": 31,
   "id": "9b9748fb-7e47-4531-b774-fb32772f97f2",
   "metadata": {},
   "outputs": [
    {
     "name": "stdout",
     "output_type": "stream",
     "text": [
      "Initialization attempt completed.\n",
      "Initialization attempt completed.\n",
      "Initialization of Person attempted.\n",
      "Initialization of Policyholder attempted.\n",
      "Initialization of Person attempted.\n",
      "Initialization of Policyholder attempted.\n",
      "Initialization attempt completed.\n",
      "Initialization attempt completed.\n",
      "Policyholder: Albert Murungi, Phone: 0771234676\n",
      "Product: Health Insurance, Description: Comprehensive health coverage\n",
      "Payment Amount: 500000, Payment Date: 23/05/2024\n",
      "Payment Status: Paid\n",
      "--------------------------------------------------\n",
      "Policyholder: Aretha Murungi, Phone: 0775621176\n",
      "Product: Travel Insurance, Description: Worldwide Travel coverage\n",
      "Payment Amount: 300000, Payment Date: 20/03/2024\n",
      "Payment Status: Paid\n",
      "--------------------------------------------------\n"
     ]
    }
   ],
   "source": [
    "# Load and run the products.ipynb file\n",
    "%run products.ipynb\n",
    "# Load and run the policyholder.ipynb file\n",
    "%run policyholder.ipynb\n",
    "# Load and run the payments.ipynb file\n",
    "%run payments.ipynb\n",
    "\n",
    "#Demo policy products data/instances\n",
    "product1 = Product(5, \"Health Insurance\", \"Comprehensive health coverage\", 500000)\n",
    "product2 = Product(2, \"Travel Insurance\", \"Worldwide Travel coverage\", 300000)\n",
    "\n",
    "#Demo Policy holder data/instances\n",
    "policyholders = [\n",
    "    Policyholder(24, \"Albert Murungi\", \"Kampala\", \"0771234676\"),\n",
    "    Policyholder(165, \"Aretha Murungi\", \"Kampala\", \"0775621176\")\n",
    "]\n",
    "\n",
    "#Demo Payment data/instances\n",
    "payments = [\n",
    "    Payment(payment_id=1, policyholder_id=24, product_id=5, amount=500000, date=datetime.strptime(\"23/5/2024\", \"%d/%m/%Y\")),\n",
    "    Payment(payment_id=15, policyholder_id=165, product_id=2, amount=300000, date=datetime.strptime(\"20/3/2024\", \"%d/%m/%Y\"))\n",
    "]\n",
    "\n",
    "# Function to check if a policy holder has paid for at least one product and return payment details\n",
    "def get_payment_details(policyholder_id):\n",
    "    for payment in payments:\n",
    "        if payment.policyholder_id == policyholder_id:\n",
    "            return payment\n",
    "    return None\n",
    "\n",
    "# Display account details for policy holders who have paid for at least one of the products\n",
    "def display_account_details(policyholders):\n",
    "    for policyholder in policyholders:\n",
    "        payment = get_payment_details(policyholder.policyholder_id)\n",
    "        if payment:\n",
    "            product = product1 if payment.product_id == product1.product_id else product2\n",
    "            print(f\"Policyholder: {policyholder.name}, Phone: {policyholder.phone_number}\")\n",
    "            print(f\"Product: {product.name}, Description: {product.description}\")\n",
    "            print(f\"Payment Amount: {payment.amount}, Payment Date: {payment.date.strftime('%d/%m/%Y')}\")\n",
    "            print(f\"Payment Status: {'Paid' if payment else 'Not Paid'}\")\n",
    "            print(\"-\" * 50)\n",
    "        else:\n",
    "            print(f\"{policyholder.name} has not paid for any product.\")\n",
    "            print(\"-\" * 50)\n",
    "\n",
    "# Check and display account details\n",
    "display_account_details(policyholders)"
   ]
  },
  {
   "cell_type": "code",
   "execution_count": null,
   "id": "fdd99401-295c-4ef6-930b-b1080cb0f698",
   "metadata": {},
   "outputs": [],
   "source": []
  }
 ],
 "metadata": {
  "kernelspec": {
   "display_name": "Python 3 (ipykernel)",
   "language": "python",
   "name": "python3"
  },
  "language_info": {
   "codemirror_mode": {
    "name": "ipython",
    "version": 3
   },
   "file_extension": ".py",
   "mimetype": "text/x-python",
   "name": "python",
   "nbconvert_exporter": "python",
   "pygments_lexer": "ipython3",
   "version": "3.12.4"
  }
 },
 "nbformat": 4,
 "nbformat_minor": 5
}
