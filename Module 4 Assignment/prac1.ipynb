{
 "cells": [
  {
   "cell_type": "code",
   "execution_count": null,
   "id": "be454feb-7bf3-43aa-b865-072a0a5075fd",
   "metadata": {},
   "outputs": [],
   "source": [
    "install.packages(\"dplyr\")"
   ]
  },
  {
   "cell_type": "code",
   "execution_count": null,
   "id": "e4dce2f4-3b9b-42b6-824b-d86abd842f94",
   "metadata": {},
   "outputs": [],
   "source": [
    "library(\"dplyr\")\n"
   ]
  },
  {
   "cell_type": "code",
   "execution_count": null,
   "id": "cc8692c8-b489-46a2-87fa-2b2fbc4cb1d2",
   "metadata": {},
   "outputs": [],
   "source": [
    "data(mtcars)"
   ]
  },
  {
   "cell_type": "code",
   "execution_count": null,
   "id": "c7c14d2f-cffb-4519-91aa-5d50cc0cb3b5",
   "metadata": {},
   "outputs": [],
   "source": [
    "head(mtcars)\n",
    "summary(mtcars)\n",
    "str(mtcars)"
   ]
  },
  {
   "cell_type": "code",
   "execution_count": null,
   "id": "e8f48f7f-2dc7-4ee9-9fb4-54c8fe4b2955",
   "metadata": {},
   "outputs": [],
   "source": []
  }
 ],
 "metadata": {
  "kernelspec": {
   "display_name": "Python 3 (ipykernel)",
   "language": "python",
   "name": "python3"
  },
  "language_info": {
   "codemirror_mode": {
    "name": "ipython",
    "version": 3
   },
   "file_extension": ".py",
   "mimetype": "text/x-python",
   "name": "python",
   "nbconvert_exporter": "python",
   "pygments_lexer": "ipython3",
   "version": "3.12.4"
  }
 },
 "nbformat": 4,
 "nbformat_minor": 5
}
