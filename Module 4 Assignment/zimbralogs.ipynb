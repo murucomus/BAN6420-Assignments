{
 "cells": [
  {
   "cell_type": "code",
   "execution_count": 1,
   "id": "5c19c942-dbde-42d2-83d4-62942b97510e",
   "metadata": {},
   "outputs": [
    {
     "name": "stdout",
     "output_type": "stream",
     "text": [
      "C:\\Users\\muruc\\Downloads\\log uegcl distributionlist query.csv\n"
     ]
    }
   ],
   "source": [
    "import os\n",
    "from pathlib import Path\n",
    "import pandas as pd\n",
    "import matplotlib.pyplot as plt\n",
    "\n",
    "# Define the base directory and file name\n",
    "base_dir = Path.home()  # This points to the user's home directory\n",
    "#print (base_dir) #Error checking code\n",
    "file_name = 'log uegcl distributionlist query.csv'\n",
    "\n",
    "path= base_dir / 'Downloads' / file_name\n",
    "\n",
    "print (path) #Error checking code"
   ]
  },
  {
   "cell_type": "code",
   "execution_count": 7,
   "id": "5b34de0c-597a-4804-9420-8e1976a04a8d",
   "metadata": {},
   "outputs": [],
   "source": [
    "df= pd.read_csv(path, delimiter= '\\t')"
   ]
  },
  {
   "cell_type": "code",
   "execution_count": 17,
   "id": "3d2cf33c-6bfa-4d07-9b36-24906a078b82",
   "metadata": {},
   "outputs": [],
   "source": [
    "file_name2= 'logs1.csv'\n",
    "logs_path= base_dir/'Downloads'/ file_name2\n",
    "logs= df.to_csv(logs_path, index=False)\n"
   ]
  },
  {
   "cell_type": "code",
   "execution_count": 18,
   "id": "4fde853e-4c39-4221-aeb0-d7187b8d8c94",
   "metadata": {},
   "outputs": [
    {
     "name": "stdout",
     "output_type": "stream",
     "text": [
      "  2024-01-15 17:36:20,394 INFO  [qtp2145970759-7426481:https://mail.umcs.go.ug:7071/service/admin/soap/AddDistributionListMemberRequest] [name=carol.bishagenda@uegcl.go.ug;mid=832;oip=154.72.199.66;port=36010;ua=ZimbraWebClient - GC120 (Win);soapId=7b3a5ad9;] soap - AddDistributionListMemberRequest elapsed=1777\n",
      "0  2024-01-24 17:19:38,848 INFO  [qtp2145970759-1...                                                                                                                                                                                                                                                                    \n",
      "1  2024-01-25 11:00:15,909 INFO  [qtp2145970759-1...                                                                                                                                                                                                                                                                    \n",
      "2  2024-01-25 11:03:23,001 INFO  [qtp2145970759-1...                                                                                                                                                                                                                                                                    \n",
      "3  2024-01-25 11:03:41,239 INFO  [qtp2145970759-1...                                                                                                                                                                                                                                                                    \n",
      "4  2024-01-25 11:04:32,071 INFO  [qtp2145970759-1...                                                                                                                                                                                                                                                                    \n"
     ]
    }
   ],
   "source": [
    "print(df.head())"
   ]
  },
  {
   "cell_type": "code",
   "execution_count": 19,
   "id": "b55835d8-9c2b-45f9-a5ad-8a427d0a8ee9",
   "metadata": {},
   "outputs": [
    {
     "name": "stdout",
     "output_type": "stream",
     "text": [
      "Column names: Index(['2024-01-15 17:36:20,394 INFO  [qtp2145970759-7426481:https://mail.umcs.go.ug:7071/service/admin/soap/AddDistributionListMemberRequest] [name=carol.bishagenda@uegcl.go.ug;mid=832;oip=154.72.199.66;port=36010;ua=ZimbraWebClient - GC120 (Win);soapId=7b3a5ad9;] soap - AddDistributionListMemberRequest elapsed=1777'], dtype='object')\n"
     ]
    }
   ],
   "source": [
    "# List column names\n",
    "print(\"Column names:\", df.columns)"
   ]
  },
  {
   "cell_type": "code",
   "execution_count": 13,
   "id": "3a000e09-54c1-4404-82f6-442c3fbf7322",
   "metadata": {},
   "outputs": [
    {
     "name": "stdout",
     "output_type": "stream",
     "text": [
      "(97, 1)\n"
     ]
    }
   ],
   "source": [
    "print(df.shape)"
   ]
  },
  {
   "cell_type": "code",
   "execution_count": null,
   "id": "e3c12b40-f876-43e0-8883-2aa6c2002392",
   "metadata": {},
   "outputs": [],
   "source": []
  },
  {
   "cell_type": "code",
   "execution_count": null,
   "id": "d80094ba-3dfe-4b5c-885e-e9bedc8ca4cd",
   "metadata": {},
   "outputs": [],
   "source": []
  }
 ],
 "metadata": {
  "kernelspec": {
   "display_name": "Python 3 (ipykernel)",
   "language": "python",
   "name": "python3"
  },
  "language_info": {
   "codemirror_mode": {
    "name": "ipython",
    "version": 3
   },
   "file_extension": ".py",
   "mimetype": "text/x-python",
   "name": "python",
   "nbconvert_exporter": "python",
   "pygments_lexer": "ipython3",
   "version": "3.12.4"
  }
 },
 "nbformat": 4,
 "nbformat_minor": 5
}
