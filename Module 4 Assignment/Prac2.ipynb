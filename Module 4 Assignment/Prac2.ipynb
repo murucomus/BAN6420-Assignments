{
 "cells": [
  {
   "cell_type": "code",
   "execution_count": 3,
   "id": "76ac4e21-e274-4993-87e1-0bc02beece02",
   "metadata": {},
   "outputs": [
    {
     "name": "stdout",
     "output_type": "stream",
     "text": [
      "Outliers: [15]\n"
     ]
    }
   ],
   "source": [
    "import numpy as np\n",
    "from scipy import stats\n",
    "\n",
    "data=[1,2,2,2, 3, 1,1,15,2,2,2,3,1]\n",
    "z_scores=np.abs(stats.zscore(data))\n",
    "threshold=2\n",
    "outliers=np.where(z_scores>threshold)[0]\n",
    "\n",
    "print(\"Outliers:\", [data[i] for i in outliers])"
   ]
  },
  {
   "cell_type": "code",
   "execution_count": null,
   "id": "53f762dc-14c5-4584-b0ef-42b84c8e4b14",
   "metadata": {},
   "outputs": [],
   "source": []
  }
 ],
 "metadata": {
  "kernelspec": {
   "display_name": "Python 3 (ipykernel)",
   "language": "python",
   "name": "python3"
  },
  "language_info": {
   "codemirror_mode": {
    "name": "ipython",
    "version": 3
   },
   "file_extension": ".py",
   "mimetype": "text/x-python",
   "name": "python",
   "nbconvert_exporter": "python",
   "pygments_lexer": "ipython3",
   "version": "3.12.4"
  }
 },
 "nbformat": 4,
 "nbformat_minor": 5
}
