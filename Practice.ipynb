{
 "cells": [
  {
   "cell_type": "code",
   "execution_count": 9,
   "id": "410537bd-4075-478e-8d60-824a8507b7a5",
   "metadata": {},
   "outputs": [],
   "source": [
    "class Members:\n",
    "    def __init__(self, name, membership_id):\n",
    "        self.name=name\n",
    "        self.membership_id=membership_id\n",
    "\n",
    "    def welcome_message(self):\n",
    "        return f\"Welcome {self.name}, your Membership ID is {self.membership_id}\""
   ]
  },
  {
   "cell_type": "code",
   "execution_count": 10,
   "id": "9a1487dd-8a75-4872-a552-14266f2a5200",
   "metadata": {},
   "outputs": [],
   "source": [
    "member= Members(\"Albert\", \"000123\")\n"
   ]
  },
  {
   "cell_type": "code",
   "execution_count": 11,
   "id": "36514db6-8c95-43d0-b7cc-90a567fe0a99",
   "metadata": {},
   "outputs": [
    {
     "name": "stdout",
     "output_type": "stream",
     "text": [
      "Welcome Albert, your Membership ID is 000123\n"
     ]
    }
   ],
   "source": [
    "print(member.welcome_message())"
   ]
  },
  {
   "cell_type": "code",
   "execution_count": null,
   "id": "993ae508-5fce-4618-af30-b7fcee6c5a4b",
   "metadata": {},
   "outputs": [],
   "source": [
    "class Employee(Person):\n",
    "    def__init__(self, name, age, employee_id):\n",
    "    super().__init__(name, age)\n",
    "    self.employee_id= employee_id"
   ]
  }
 ],
 "metadata": {
  "kernelspec": {
   "display_name": "Python 3 (ipykernel)",
   "language": "python",
   "name": "python3"
  },
  "language_info": {
   "codemirror_mode": {
    "name": "ipython",
    "version": 3
   },
   "file_extension": ".py",
   "mimetype": "text/x-python",
   "name": "python",
   "nbconvert_exporter": "python",
   "pygments_lexer": "ipython3",
   "version": "3.12.4"
  }
 },
 "nbformat": 4,
 "nbformat_minor": 5
}
