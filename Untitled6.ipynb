{
 "cells": [
  {
   "cell_type": "code",
   "execution_count": null,
   "id": "9973e190-c7de-4ddf-89de-7728fbee7296",
   "metadata": {},
   "outputs": [],
   "source": []
  }
 ],
 "metadata": {
  "kernelspec": {
   "display_name": "R",
   "language": "R",
   "name": "ir"
  },
  "language_info": {
   "name": ""
  }
 },
 "nbformat": 4,
 "nbformat_minor": 5
}
