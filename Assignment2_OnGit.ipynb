{
 "cells": [
  {
   "cell_type": "code",
   "execution_count": 1,
   "id": "5ae2ad59-d19e-4f02-b614-c18d90b002c1",
   "metadata": {
    "editable": true,
    "slideshow": {
     "slide_type": ""
    },
    "tags": []
   },
   "outputs": [
    {
     "name": "stdout",
     "output_type": "stream",
     "text": [
      "Directory 'C:\\Users\\muruc\\OneDrive - Nexford University\\Data Analytics NXU\\Assignments\\BAN6420\\Assignment 2\\Salary' created successfully!\n"
     ]
    }
   ],
   "source": [
    "#Import the data into Jupyter\n",
    "#Unzip file and extract the data file\n",
    "import zipfile\n",
    "import os\n",
    "#Path to the zipfile\n",
    "file_path= r\"C:\\Users\\muruc\\OneDrive - Nexford University\\Data Analytics NXU\\Assignments\\BAN6420\\Assignment 2\\archive.zip\"\n",
    "extract_path= r\"C:\\Users\\muruc\\OneDrive - Nexford University\\Data Analytics NXU\\Assignments\\BAN6420\\Assignment 2\\Salary\"\n",
    "os.makedirs(extract_path, exist_ok=True)\n",
    "print(f\"Directory '{extract_path}' created successfully!\")\n",
    "#Zip file Object\n",
    "with zipfile.ZipFile(file_path, 'r') as zip_object:\n",
    "    #extract contents of zip object\n",
    "    zip_object.extractall(extract_path)"
   ]
  },
  {
   "cell_type": "code",
   "execution_count": 2,
   "id": "35e609d2-ded6-4e36-9fc0-d8a4cb9a81e3",
   "metadata": {},
   "outputs": [
    {
     "name": "stdout",
     "output_type": "stream",
     "text": [
      "The number of columns in the CSV file is: 9\n"
     ]
    },
    {
     "name": "stderr",
     "output_type": "stream",
     "text": [
      "C:\\Users\\muruc\\AppData\\Local\\Temp\\ipykernel_207268\\568230252.py:30: UserWarning: DataFrame columns are not unique, some columns will be omitted.\n",
      "  salary_dict= salary_data.set_index('EmployeeName').T.to_dict()\n"
     ]
    }
   ],
   "source": [
    "#Import Pandas library for data manipulation\n",
    "import pandas as pd\n",
    "\n",
    "csv_file_path= r\"C:\\Users\\muruc\\OneDrive - Nexford University\\Data Analytics NXU\\Assignments\\BAN6420\\Assignment 2\\Salary\\Total.csv\"\n",
    "\n",
    "\n",
    "#Let start by creating a data dictionary file from the salary csv file\n",
    "#This also involves loading the CSV file into a pandas data frame for ease of data manipulation\n",
    "def csv_to_dict(csv_file_path):\n",
    "    # Define the data types for the columns\n",
    "    dtype_dict = {\n",
    "    'Column1': str,\n",
    "    'Column2': str,\n",
    "    }\n",
    "    #Load the CSV file into a dataframe \n",
    "    salary_data= pd.read_csv(csv_file_path, dtype=dtype_dict, low_memory= False)\n",
    "    #Print some information about the loaded data eg number of columns and headers as confirmation of successful data loading\n",
    "    num_columns= len(salary_data.columns)\n",
    "    print(f'The number of columns in the CSV file is: {num_columns}')\n",
    "    #print(salary_data.head())    \n",
    "   # Rename any duplicate columns if any exists  \n",
    "    new_columns = []\n",
    "    for col in salary_data.columns:\n",
    "        if col in new_columns:\n",
    "            count = new_columns.count(col)\n",
    "            new_columns.append(f\"{col}_{count + 1}\")\n",
    "        else:\n",
    "            new_columns.append(col)\n",
    "    salary_data.columns = new_columns\n",
    "    salary_dict= salary_data.set_index('EmployeeName').T.to_dict()\n",
    "    return salary_dict\n",
    "\n",
    "employee_salary_dict= csv_to_dict(csv_file_path) #Create a dictionary now containing  employee details\n",
    "#print (employee_salary_dict)"
   ]
  },
  {
   "cell_type": "code",
   "execution_count": 3,
   "id": "e0d4d430-fa04-416b-a6d8-050e40cb401a",
   "metadata": {},
   "outputs": [
    {
     "name": "stdin",
     "output_type": "stream",
     "text": [
      "Enter the employee's name:  ALISON\n"
     ]
    },
    {
     "name": "stdout",
     "output_type": "stream",
     "text": [
      "Employee not found\n",
      "***This code executed successfully***\n"
     ]
    }
   ],
   "source": [
    "#Now define a function to that returns an employee's details after inputing an employee's name\n",
    "def get_employee_details(name):\n",
    "    return employee_salary_dict.get(name, \"Employee not found\") #Return an error message if an employee is not found\n",
    "\n",
    "#Applying the above function as per the assignment requirement\n",
    "try: #Error handling for any exceptions\n",
    "    employee_name = input(\"Enter the employee's name: \")\n",
    "    details = get_employee_details(employee_name)\n",
    "except exception as e:\n",
    "    print(f\"An unexpected error occurred: {e}\") #This catches any unexpected errors \n",
    "else: #this runs if no exceptions are found in the try block\n",
    "    print(details)\n",
    "finally: #block executes regardless of whether an exception was raised or not\n",
    "    print(\"***This code executed successfully***\")\n",
    "    "
   ]
  },
  {
   "cell_type": "code",
   "execution_count": 12,
   "id": "09cd258b-699f-4d99-ac79-e26328e32524",
   "metadata": {
    "editable": true,
    "slideshow": {
     "slide_type": ""
    },
    "tags": []
   },
   "outputs": [
    {
     "name": "stdin",
     "output_type": "stream",
     "text": [
      "Enter the employee's name:  JAMES DUDLEY\n"
     ]
    },
    {
     "name": "stdout",
     "output_type": "stream",
     "text": [
      "Employee salary details for JAMES DUDLEY have been written to JAMES DUDLEY_salary.csv\n",
      "Employee salary details for JAMES DUDLEY have been written to C:\\Users\\muruc\\OneDrive - Nexford University\\Data Analytics NXU\\Assignments\\BAN6420\\Assignment 2\\Salary\\Employee Profile.zip\n"
     ]
    }
   ],
   "source": [
    "# Function to search for a specific employee by name\n",
    "def search_employee(employee_salary_dict, employee_name):\n",
    "    return employee_salary_dict.get(employee_name, \"Employee not found\") #Error message returned if Employee is not found\n",
    "\n",
    "# Input Employee Name whose profile is needed\n",
    "employee_name = input(\"Enter the employee's name: \")\n",
    "filtered_employee_data = search_employee(employee_salary_dict, employee_name)\n",
    "\n",
    "if filtered_employee_data == \"Employee not found\":\n",
    "    print(filtered_employee_data)\n",
    "else:\n",
    "    # Converting the filtered employee data dictionary to a DataFrame\n",
    "    df = pd.DataFrame([filtered_employee_data])\n",
    "\n",
    "    # Specifying the new CSV file name\n",
    "    csv_file_name = f'{employee_name}_salary.csv'\n",
    "    # Writing the DataFrame to a CSV file\n",
    "    df.to_csv(csv_file_name, index=False)\n",
    "\n",
    "    print(f\"Employee salary details for {employee_name} have been written to {csv_file_name}\")\n",
    "\n",
    "# Specifying the directory to save the zip file\n",
    "directory = r\"C:\\Users\\muruc\\OneDrive - Nexford University\\Data Analytics NXU\\Assignments\\BAN6420\\Assignment 2\\Salary\"  \n",
    "\n",
    "# Ensure the directory exists\n",
    "os.makedirs(directory, exist_ok=True)\n",
    "\n",
    "# Specifying the zip file name with the directory\n",
    "zip_file_name = os.path.join(directory, 'Employee Profile.zip')\n",
    "\n",
    "# Creating a zip file and adding the CSV file to it\n",
    "with zipfile.ZipFile(zip_file_name, 'w') as zipf:\n",
    "        zipf.write(csv_file_name)\n",
    "\n",
    "print(f\"Employee salary details for {employee_name} have been written to {zip_file_name}\")"
   ]
  },
  {
   "cell_type": "code",
   "execution_count": null,
   "id": "49f1ad1a-98de-42e7-8ca1-8862f985adb5",
   "metadata": {
    "editable": true,
    "slideshow": {
     "slide_type": ""
    },
    "tags": []
   },
   "outputs": [],
   "source": []
  }
 ],
 "metadata": {
  "kernelspec": {
   "display_name": "Python 3 (ipykernel)",
   "language": "python",
   "name": "python3"
  },
  "language_info": {
   "codemirror_mode": {
    "name": "ipython",
    "version": 3
   },
   "file_extension": ".py",
   "mimetype": "text/x-python",
   "name": "python",
   "nbconvert_exporter": "python",
   "pygments_lexer": "ipython3",
   "version": "3.12.4"
  }
 },
 "nbformat": 4,
 "nbformat_minor": 5
}
