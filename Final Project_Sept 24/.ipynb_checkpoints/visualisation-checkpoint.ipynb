{
 "cells": [
  {
   "cell_type": "code",
   "execution_count": null,
   "id": "ac518f30-f317-47cf-bf9c-08390ff10b08",
   "metadata": {},
   "outputs": [],
   "source": [
    "#Install any missing modules\n",
    "#pip install pandas matplotlib seaborn\n",
    "#Import relevant libraries from the installed modules\n",
    "import pandas as pd\n",
    "import matplotlib.pyplot as plt\n",
    "import seaborn as sns\n",
    "\n",
    "# Load the CSV file\n",
    "df = pd.read_csv('user_data.csv')\n",
    "\n",
    "# Display the first few rows of the dataframe\n",
    "print(df.head())\n",
    "\n",
    "#Show ages with highest incomes\n",
    "\n",
    "# Sort by total income\n",
    "highest_income = df.sort_values(by='total_income', ascending=False)\n",
    "\n",
    "# Plotting\n",
    "plt.figure(figsize=(10, 6))\n",
    "sns.barplot(x='age', y='total_income', data=highest_income.head(10))  # Top 10 entries\n",
    "plt.title('Top 10 Ages with Highest Income')\n",
    "plt.xlabel('Age')\n",
    "plt.ylabel('Total Income')\n",
    "plt.xticks(rotation=45)\n",
    "plt.tight_layout()\n",
    "plt.savefig('top_ages_highest_income.png')  # Save chart for PowerPoint\n",
    "plt.show()\n",
    "\n",
    "\n",
    "#Gender distribution across spending catgeries\n",
    "# Reshape the data for visualization\n",
    "categories = ['utilities', 'entertainment', 'school_fees', 'shopping', 'healthcare']\n",
    "gender_expenses = df.groupby('gender')[categories].sum().reset_index()\n",
    "\n",
    "# Plotting\n",
    "plt.figure(figsize=(12, 6))\n",
    "gender_expenses.set_index('gender').plot(kind='bar', stacked=True)\n",
    "plt.title('Gender Distribution Across Spending Categories')\n",
    "plt.xlabel('Gender')\n",
    "plt.ylabel('Total Expenses')\n",
    "plt.xticks(rotation=0)\n",
    "plt.legend(title='Spending Categories')\n",
    "plt.tight_layout()\n",
    "plt.savefig('gender_distribution_spending.png')  # Save chart for PowerPoint\n",
    "plt.show()\n",
    "\n"
   ]
  }
 ],
 "metadata": {
  "kernelspec": {
   "display_name": "Python 3 (ipykernel)",
   "language": "python",
   "name": "python3"
  },
  "language_info": {
   "codemirror_mode": {
    "name": "ipython",
    "version": 3
   },
   "file_extension": ".py",
   "mimetype": "text/x-python",
   "name": "python",
   "nbconvert_exporter": "python",
   "pygments_lexer": "ipython3",
   "version": "3.12.4"
  }
 },
 "nbformat": 4,
 "nbformat_minor": 5
}
