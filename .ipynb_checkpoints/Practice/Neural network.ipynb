{
 "cells": [
  {
   "cell_type": "code",
   "execution_count": 9,
   "id": "2abf43e4-f721-4559-939f-30dc2721eb45",
   "metadata": {},
   "outputs": [
    {
     "name": "stdout",
     "output_type": "stream",
     "text": [
      "Predictions after training:\n",
      "[[0.00541662]\n",
      " [0.98682336]\n",
      " [0.98932429]\n",
      " [0.0143984 ]]\n"
     ]
    }
   ],
   "source": [
    "import numpy as np #Import libraries\n",
    "import matplotlib as plt\n",
    "\n",
    "class NeuralNetwork: #Define neural network class\n",
    "    def __init__(self, input_size, hidden_size, output_size):\n",
    "        self.input_size= input_size\n",
    "        self.hidden_size= hidden_size\n",
    "        self.output_size= output_size\n",
    "        self.weights1= np.random.randn(input_size, hidden_size)\n",
    "        self.weights2= np.random.randn(hidden_size, output_size)\n",
    "        self.bias1= np.random.randn(hidden_size)\n",
    "        self.bias2= np.random.randn(output_size)\n",
    "\n",
    "#Define activation functions and their derivatives\n",
    "    def sigmoid(self, x):\n",
    "        return 1/(1+np.exp(-x))\n",
    "    def sigmoid_derivative(self,x):\n",
    "        return x*(1-x)\n",
    "\n",
    "#Implement the backpropagation method\n",
    "    def backpropagation(self, X,y, output):\n",
    "        output_error= y-output\n",
    "        output_delta= output_error*self.sigmoid_derivative(output)\n",
    "        layer1_error=output_delta.dot(self.weights2.T)\n",
    "        layer1_delta=layer1_error*self.sigmoid_derivative(self.layer1)\n",
    "        self.weights2 += self.layer1.T.dot(output_delta)\n",
    "        self.bias2 += np.sum(output_delta, axis=0)\n",
    "        self.weights1 += X.T.dot(layer1_delta)\n",
    "        self.bias1 += np.sum(layer1_delta, axis=0)\n",
    "\n",
    "    def feedforward(self, X):\n",
    "        self.layer1 = self.sigmoid(np.dot(X, self.weights1) + self.bias1)\n",
    "        output = self.sigmoid(np.dot(self.layer1, self.weights2) + self.bias2)\n",
    "        return output\n",
    "\n",
    "#Implement the training method\n",
    "    def train(self, X,y, epochs):\n",
    "        for epochs in range(epochs):\n",
    "            output= self.feedforward(X)\n",
    "            self.backpropagation(X, y, output)\n",
    "\n",
    "#Test the neural network\n",
    "#Create a simple dataset\n",
    "\n",
    "X= np.array([[0,0],[0,1],[1,0],[1,1]])\n",
    "y= np.array([[0],[1],[1],[0]])\n",
    "\n",
    "#initialise and train the neural network\n",
    "nn= NeuralNetwork(input_size=2, hidden_size=3, output_size=1)\n",
    "nn.train(X,y, epochs=10000)\n",
    "\n",
    "#Test the neural network\n",
    "print(\"Predictions after training:\")\n",
    "print(nn.feedforward(X))"
   ]
  },
  {
   "cell_type": "code",
   "execution_count": null,
   "id": "13d6f88a-9c96-4211-acca-009c488effd7",
   "metadata": {},
   "outputs": [],
   "source": []
  }
 ],
 "metadata": {
  "kernelspec": {
   "display_name": "Python 3 (ipykernel)",
   "language": "python",
   "name": "python3"
  },
  "language_info": {
   "codemirror_mode": {
    "name": "ipython",
    "version": 3
   },
   "file_extension": ".py",
   "mimetype": "text/x-python",
   "name": "python",
   "nbconvert_exporter": "python",
   "pygments_lexer": "ipython3",
   "version": "3.12.4"
  }
 },
 "nbformat": 4,
 "nbformat_minor": 5
}
