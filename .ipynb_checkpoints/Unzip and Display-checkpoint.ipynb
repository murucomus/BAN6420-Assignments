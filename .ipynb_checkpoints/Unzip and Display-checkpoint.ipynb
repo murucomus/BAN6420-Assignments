{
 "cells": [
  {
   "cell_type": "code",
   "execution_count": null,
   "id": "4a0d7dd5-06cf-412a-9bc6-eaaf255c2505",
   "metadata": {},
   "outputs": [],
   "source": [
    "# To unzip the folder using R displaying the data.\n",
    "#Load necessary utils library\n",
    "library(utils)\n",
    "\n",
    "# Specify the path to the zip file\n",
    "zip_file_path <- r\"C:\\\\Users\\\\muruc\\\\OneDrive - Nexford University\\\\Data Analytics NXU\\\\Assignments\\\\BAN6420\\\\Assignment 2\\Salary\\employee_name_salary.zip\"  \n",
    "\n",
    "# Specify the directory to extract the files to\n",
    "extraction_dir <- r\"C:\\\\Users\\\\muruc\\\\OneDrive - Nexford University\\\\Data Analytics NXU\\\\Assignments\\\\BAN6420\\\\Assignment 2\\Salary\" \n",
    "\n",
    "# Unzip the file\n",
    "unzip(zip_file_path, exdir = extraction_dir)\n",
    "\n",
    "# Automatically pick the file name\n",
    "csv_files <- list.files(path = extraction_dir, pattern = \"*.csv\", full.names = TRUE)\n",
    "\n",
    "# Create an empty list to store the dataframes\n",
    "dataframes <- list()\n",
    "\n",
    "# Loop over the list of CSV files and read each one into a dataframe\n",
    "for (file in csv_files) {\n",
    "  df <- read.csv(file)\n",
    "  dataframes[[file]] <- df\n",
    "}\n",
    "# Combine all dataframes into a single dataframe\n",
    "combined_df <- do.call(rbind, dataframes)\n",
    "\n",
    "# Display the combined dataframe\n",
    "print(combined_df)\n",
    "\n"
   ]
  },
  {
   "cell_type": "code",
   "execution_count": null,
   "id": "c800ec6c-28d5-4dbc-9b4a-7626031225f0",
   "metadata": {},
   "outputs": [],
   "source": []
  }
 ],
 "metadata": {
  "kernelspec": {
   "display_name": "R",
   "language": "R",
   "name": "ir"
  },
  "language_info": {
   "name": ""
  }
 },
 "nbformat": 4,
 "nbformat_minor": 5
}
